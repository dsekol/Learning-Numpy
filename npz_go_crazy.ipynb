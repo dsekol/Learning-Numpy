{
 "cells": [
  {
   "cell_type": "code",
   "execution_count": 1,
   "id": "a8b6be19-9c74-47cb-a993-82a58cf28357",
   "metadata": {
    "tags": []
   },
   "outputs": [],
   "source": [
    "import numpy as np"
   ]
  },
  {
   "cell_type": "code",
   "execution_count": 2,
   "id": "a8707bfc-e7ba-4b2a-abce-bdb8d9bd89f5",
   "metadata": {
    "tags": []
   },
   "outputs": [
    {
     "name": "stdout",
     "output_type": "stream",
     "text": [
      "1.24.3\n"
     ]
    }
   ],
   "source": [
    "print(np.__version__)\n",
    "# 1.24.2"
   ]
  },
  {
   "cell_type": "code",
   "execution_count": 70,
   "id": "597aaf1b-dfe2-4905-8d6c-2dc186aa7750",
   "metadata": {
    "tags": []
   },
   "outputs": [
    {
     "name": "stdout",
     "output_type": "stream",
     "text": [
      "[[[ 0  1  2  3  4  5  6  7]\n",
      "  [ 8  9 10 11 12 13 14 15]\n",
      "  [16 17 18 19 20 21 22 23]\n",
      "  [24 25 26 27 28 29 30 31]\n",
      "  [32 33 34 35 36 37 38 39]]]\n"
     ]
    }
   ],
   "source": [
    "\n",
    "a = np.arange(40, dtype=np.int16).reshape(1, 5, 8)\n",
    "print(a)\n",
    "# [[[0 1 2]\n",
    "#   [3 4 5]]]\n"
   ]
  },
  {
   "cell_type": "code",
   "execution_count": 46,
   "id": "83b69ba1-a169-4762-9218-ce1e45df48dc",
   "metadata": {
    "tags": []
   },
   "outputs": [
    {
     "name": "stdout",
     "output_type": "stream",
     "text": [
      "(1, 2, 3)\n"
     ]
    }
   ],
   "source": [
    "print(a.shape)\n",
    "# (1, 2, 3)"
   ]
  },
  {
   "cell_type": "code",
   "execution_count": 47,
   "id": "081de074-582e-4e22-9a9e-2fc9b6358eba",
   "metadata": {
    "tags": []
   },
   "outputs": [
    {
     "name": "stdout",
     "output_type": "stream",
     "text": [
      "int8\n"
     ]
    }
   ],
   "source": [
    "print(a.dtype)\n",
    "# int8"
   ]
  },
  {
   "cell_type": "code",
   "execution_count": 48,
   "id": "d19f21b1-fc81-4bd0-a1d8-fc5401828d68",
   "metadata": {
    "tags": []
   },
   "outputs": [],
   "source": [
    "np.save('data/temp/np_save', a)"
   ]
  },
  {
   "cell_type": "code",
   "execution_count": 49,
   "id": "f78f55f1-0ebe-4dd7-a979-fc584ebe0d12",
   "metadata": {
    "tags": []
   },
   "outputs": [
    {
     "name": "stdout",
     "output_type": "stream",
     "text": [
      "[[[0 1 2]\n",
      "  [3 4 5]]]\n"
     ]
    }
   ],
   "source": [
    "a_load = np.load('data/temp/np_save.npy')\n",
    "print(a_load)\n",
    "# [[[0 1 2]\n",
    "#   [3 4 5]]]"
   ]
  },
  {
   "cell_type": "code",
   "execution_count": 8,
   "id": "1e875dad-9b45-4575-8fc7-772ed0ebd1c9",
   "metadata": {
    "tags": []
   },
   "outputs": [
    {
     "name": "stdout",
     "output_type": "stream",
     "text": [
      "(1, 2, 3)\n"
     ]
    }
   ],
   "source": [
    "print(a_load.shape)\n",
    "# (1, 2, 3)"
   ]
  },
  {
   "cell_type": "code",
   "execution_count": 9,
   "id": "b047811a-0c40-4e13-a37b-62f5923ac013",
   "metadata": {
    "tags": []
   },
   "outputs": [
    {
     "name": "stdout",
     "output_type": "stream",
     "text": [
      "int8\n"
     ]
    }
   ],
   "source": [
    "print(a_load.dtype)\n",
    "# int8"
   ]
  },
  {
   "cell_type": "code",
   "execution_count": 10,
   "id": "4940ce47-c0bb-44f7-a22c-dec3a715d381",
   "metadata": {
    "tags": []
   },
   "outputs": [
    {
     "name": "stdout",
     "output_type": "stream",
     "text": [
      "[0 1 2 3 4]\n"
     ]
    }
   ],
   "source": [
    "a1 = np.arange(5)\n",
    "print(a1)\n",
    "# [0 1 2 3 4]"
   ]
  },
  {
   "cell_type": "code",
   "execution_count": 11,
   "id": "b5453b3c-8569-4445-99a2-2af5fb4409c6",
   "metadata": {
    "tags": []
   },
   "outputs": [
    {
     "name": "stdout",
     "output_type": "stream",
     "text": [
      "[5 6 7 8 9]\n"
     ]
    }
   ],
   "source": [
    "a2 = np.arange(5, 10)\n",
    "print(a2)\n",
    "# [5 6 7 8 9]"
   ]
  },
  {
   "cell_type": "code",
   "execution_count": 12,
   "id": "259e96a3-8145-4bce-b1dd-2c26cbee6515",
   "metadata": {
    "tags": []
   },
   "outputs": [],
   "source": [
    "np.savez('data/temp/np_savez', a1, a2)"
   ]
  },
  {
   "cell_type": "code",
   "execution_count": 13,
   "id": "6f0e4918-2f16-48cf-8401-0776776067f5",
   "metadata": {
    "tags": []
   },
   "outputs": [
    {
     "name": "stdout",
     "output_type": "stream",
     "text": [
      "<class 'numpy.lib.npyio.NpzFile'>\n"
     ]
    }
   ],
   "source": [
    "npz = np.load('data/temp/np_savez.npz')\n",
    "print(type(npz))\n",
    "# <class 'numpy.lib.npyio.NpzFile'>\n"
   ]
  },
  {
   "cell_type": "code",
   "execution_count": 14,
   "id": "d6519ae9-df15-4eb4-8669-c5f307725ac1",
   "metadata": {
    "tags": []
   },
   "outputs": [
    {
     "name": "stdout",
     "output_type": "stream",
     "text": [
      "['arr_0', 'arr_1']\n"
     ]
    }
   ],
   "source": [
    "print(npz.files)\n",
    "# ['arr_0', 'arr_1']"
   ]
  },
  {
   "cell_type": "code",
   "execution_count": 15,
   "id": "c9f50f37-e54f-4a37-88f3-3fd72e5afbb3",
   "metadata": {
    "tags": []
   },
   "outputs": [
    {
     "name": "stdout",
     "output_type": "stream",
     "text": [
      "[0 1 2 3 4]\n"
     ]
    }
   ],
   "source": [
    "print(npz['arr_0'])\n",
    "# [0 1 2 3 4]"
   ]
  },
  {
   "cell_type": "code",
   "execution_count": 16,
   "id": "716df06d-ace5-4cc0-8c12-bad774fe4066",
   "metadata": {
    "tags": []
   },
   "outputs": [
    {
     "name": "stdout",
     "output_type": "stream",
     "text": [
      "[5 6 7 8 9]\n"
     ]
    }
   ],
   "source": [
    "print(npz['arr_1'])\n",
    "# [5 6 7 8 9]"
   ]
  },
  {
   "cell_type": "code",
   "execution_count": 17,
   "id": "8a77c15d-0131-417a-9497-d43c016c97d5",
   "metadata": {
    "tags": []
   },
   "outputs": [],
   "source": [
    "np.savez('data/temp/np_savez_kw', x=a1, y=a2)"
   ]
  },
  {
   "cell_type": "code",
   "execution_count": 18,
   "id": "1b442da2-6a22-4b07-9703-841e968a95b8",
   "metadata": {
    "tags": []
   },
   "outputs": [
    {
     "name": "stdout",
     "output_type": "stream",
     "text": [
      "['x', 'y']\n"
     ]
    }
   ],
   "source": [
    "npz_kw = np.load('data/temp/np_savez_kw.npz')\n",
    "print(npz_kw.files)\n",
    "# ['x', 'y']"
   ]
  },
  {
   "cell_type": "code",
   "execution_count": 19,
   "id": "24771031-a018-439c-b451-726e29648d7e",
   "metadata": {
    "tags": []
   },
   "outputs": [
    {
     "name": "stdout",
     "output_type": "stream",
     "text": [
      "[0 1 2 3 4]\n"
     ]
    }
   ],
   "source": [
    "print(npz_kw['x'])\n",
    "# [0 1 2 3 4]"
   ]
  },
  {
   "cell_type": "code",
   "execution_count": 20,
   "id": "8d3699bc-ba04-45fc-9a25-7b72016ea5d8",
   "metadata": {
    "tags": []
   },
   "outputs": [
    {
     "name": "stdout",
     "output_type": "stream",
     "text": [
      "[5 6 7 8 9]\n"
     ]
    }
   ],
   "source": [
    "print(npz_kw['y'])\n",
    "# [5 6 7 8 9]"
   ]
  },
  {
   "cell_type": "code",
   "execution_count": 21,
   "id": "d4c08777-b6e0-4dc8-b0da-bb5d59706265",
   "metadata": {},
   "outputs": [],
   "source": [
    "np.savez('data/temp/np_savez_kw2', a1, y=a2)"
   ]
  },
  {
   "cell_type": "code",
   "execution_count": 22,
   "id": "146e474a-845a-49ca-8b84-7d0f9474b8b6",
   "metadata": {},
   "outputs": [
    {
     "name": "stdout",
     "output_type": "stream",
     "text": [
      "['y', 'arr_0']\n"
     ]
    }
   ],
   "source": [
    "npz_kw2 = np.load('data/temp/np_savez_kw2.npz')\n",
    "print(npz_kw2.files)\n",
    "# ['y', 'arr_0']"
   ]
  },
  {
   "cell_type": "code",
   "execution_count": 23,
   "id": "66e40508-a42a-4d13-98de-860173639ae6",
   "metadata": {},
   "outputs": [
    {
     "name": "stdout",
     "output_type": "stream",
     "text": [
      "[0 1 2 3 4]\n"
     ]
    }
   ],
   "source": [
    "print(npz_kw2['arr_0'])\n",
    "# [0 1 2 3 4]"
   ]
  },
  {
   "cell_type": "code",
   "execution_count": 24,
   "id": "7bbddb96-f235-411e-a90e-d3b0ac521b50",
   "metadata": {},
   "outputs": [
    {
     "name": "stdout",
     "output_type": "stream",
     "text": [
      "[5 6 7 8 9]\n"
     ]
    }
   ],
   "source": [
    "print(npz_kw2['y'])\n",
    "# [5 6 7 8 9]"
   ]
  },
  {
   "cell_type": "code",
   "execution_count": 25,
   "id": "d5d81ca5-f3ff-4661-9ac6-609273c45122",
   "metadata": {
    "tags": []
   },
   "outputs": [],
   "source": [
    "np.savez_compressed('data/temp/np_savez_comp', a1, a2)"
   ]
  },
  {
   "cell_type": "code",
   "execution_count": 26,
   "id": "c0a631c4-b0fe-4d5d-8653-aabab828d27e",
   "metadata": {
    "tags": []
   },
   "outputs": [
    {
     "name": "stdout",
     "output_type": "stream",
     "text": [
      "<class 'numpy.lib.npyio.NpzFile'>\n"
     ]
    }
   ],
   "source": [
    "npz_comp = np.load('data/temp/np_savez_comp.npz')\n",
    "print(type(npz_comp))\n",
    "# <class 'numpy.lib.npyio.NpzFile'>"
   ]
  },
  {
   "cell_type": "code",
   "execution_count": 27,
   "id": "7e4989c5-07cc-4373-bcca-d77b5679f5af",
   "metadata": {
    "tags": []
   },
   "outputs": [
    {
     "name": "stdout",
     "output_type": "stream",
     "text": [
      "['arr_0', 'arr_1']\n"
     ]
    }
   ],
   "source": [
    "print(npz_comp.files)\n",
    "# ['arr_0', 'arr_1']"
   ]
  },
  {
   "cell_type": "code",
   "execution_count": 28,
   "id": "41a8168d-eee6-4aa0-8c9e-c55b43e225d5",
   "metadata": {
    "tags": []
   },
   "outputs": [
    {
     "name": "stdout",
     "output_type": "stream",
     "text": [
      "[0 1 2 3 4]\n"
     ]
    }
   ],
   "source": [
    "print(npz_comp['arr_0'])\n",
    "# [0 1 2 3 4]"
   ]
  },
  {
   "cell_type": "code",
   "execution_count": 29,
   "id": "5a53b918-780d-44b2-8983-e43de8d3f139",
   "metadata": {
    "tags": []
   },
   "outputs": [
    {
     "name": "stdout",
     "output_type": "stream",
     "text": [
      "[5 6 7 8 9]\n"
     ]
    }
   ],
   "source": [
    "print(npz_comp['arr_1'])\n",
    "# [5 6 7 8 9]"
   ]
  },
  {
   "cell_type": "code",
   "execution_count": 30,
   "id": "6cd05f96-2510-4d84-8393-c5498699cb20",
   "metadata": {
    "tags": []
   },
   "outputs": [],
   "source": [
    "np.savez_compressed('data/temp/np_savez_comp_kw', x=a1, y=a2)\n",
    "npz_comp_kw = np.load('data/temp/np_savez_comp_kw.npz')"
   ]
  },
  {
   "cell_type": "code",
   "execution_count": 31,
   "id": "bf1bf2df-75ce-4f9e-beda-f42d024b5a56",
   "metadata": {
    "tags": []
   },
   "outputs": [
    {
     "name": "stdout",
     "output_type": "stream",
     "text": [
      "['x', 'y']\n"
     ]
    }
   ],
   "source": [
    "print(npz_comp_kw.files)\n",
    "# ['x', 'y']"
   ]
  },
  {
   "cell_type": "code",
   "execution_count": 32,
   "id": "4958be83-f24d-4d69-90f8-b7b8fd5222ee",
   "metadata": {
    "tags": []
   },
   "outputs": [
    {
     "name": "stdout",
     "output_type": "stream",
     "text": [
      "[0 1 2 3 4]\n"
     ]
    }
   ],
   "source": [
    "print(npz_comp_kw['x'])\n",
    "# [0 1 2 3 4]"
   ]
  },
  {
   "cell_type": "code",
   "execution_count": 34,
   "id": "7fb09ba2-f706-4abf-806f-570e97c5da3b",
   "metadata": {
    "tags": []
   },
   "outputs": [
    {
     "name": "stdout",
     "output_type": "stream",
     "text": [
      "[5 6 7 8 9]\n"
     ]
    }
   ],
   "source": [
    "print(npz_comp_kw['y'])\n",
    "# [5 6 7 8 9]"
   ]
  },
  {
   "cell_type": "code",
   "execution_count": null,
   "id": "3aec0fe4-41b3-4bcb-b07d-b349989ee914",
   "metadata": {},
   "outputs": [],
   "source": []
  },
  {
   "cell_type": "code",
   "execution_count": null,
   "id": "c7970fa6-b964-4ccb-9c8c-1fff96b94ffa",
   "metadata": {},
   "outputs": [],
   "source": []
  }
 ],
 "metadata": {
  "kernelspec": {
   "display_name": "Python 3 (ipykernel)",
   "language": "python",
   "name": "python3"
  },
  "language_info": {
   "codemirror_mode": {
    "name": "ipython",
    "version": 3
   },
   "file_extension": ".py",
   "mimetype": "text/x-python",
   "name": "python",
   "nbconvert_exporter": "python",
   "pygments_lexer": "ipython3",
   "version": "3.11.5"
  }
 },
 "nbformat": 4,
 "nbformat_minor": 5
}
